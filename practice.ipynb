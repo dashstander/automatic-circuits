{
 "cells": [
  {
   "cell_type": "code",
   "execution_count": 58,
   "id": "60ed6b69-18cb-438a-b1fb-9e3a0434c91e",
   "metadata": {},
   "outputs": [],
   "source": [
    "import numpy as np\n",
    "import operator as op\n",
    "\n",
    "\n",
    "equals, leq, lt, geq, gt = op.eq, op.le, op.lt, op.ge, op.gt\n",
    "\n",
    "\n",
    "def full(x, const):\n",
    "    return np.full_like(x, const, dtype=int)\n",
    "    \n",
    "def indices(x):\n",
    "    return np.arange(len(x), dtype=int)\n",
    "    \n",
    "def tok_map(x, func):\n",
    "    return np.array([func(xi) for xi in x]).astype(int)\n",
    "    \n",
    "def seq_map(x , y, func):\n",
    "    return np.array([func(xi, yi) for xi, yi in zip(x,y)]).astype(int)\n",
    "    \n",
    "def select(k, q, pred, causal=True):\n",
    "    s = len(k)\n",
    "    A = np.zeros((s, s), dtype=bool)\n",
    "    \n",
    "    for qi in range(s):\n",
    "        for kj in (range(qi+1) if causal else range(s)): # k_index <= q_index if causal\n",
    "            A[qi, kj] = pred(k[kj], q[qi])\n",
    "    return A\n",
    "\n",
    "def sel_width(A):\n",
    "    return np.dot(A, np.ones(len(A))).astype(int)\n",
    "\n",
    "\n",
    "def aggr_sum(A, v, default=0):\n",
    "    return np.dot(A, v)\n",
    "\n",
    "\n",
    "def aggr_mean(A, v, default=0):\n",
    "    out = np.dot(A, v)\n",
    "    norm = sel_width(A)\n",
    "    out = np.divide(out, norm, out=np.full_like(v, default,dtype=float), where=(norm != 0))\n",
    "    return out.astype(int)\n",
    "\n",
    "\n",
    "def aggr_max(A, v, default=0):\n",
    "    out = np.full_like(v, default)\n",
    "    for i, row in enumerate(A):\n",
    "        idxs = np.flatnonzero(row)\n",
    "        if len(idxs) > 0:\n",
    "            out[i] = np.max(v[idxs]) # max of selected elements in v\n",
    "    return out.astype(int)\n",
    "\n",
    "\n",
    "def aggr(A, v, default=0, reduction='mean'):\n",
    "    match reduction:\n",
    "        case 'mean':\n",
    "            return aggr_mean(A, v, default)\n",
    "        case 'max':\n",
    "            return aggr_max(A, v, default)\n",
    "        case 'sum':\n",
    "            return aggr_sum(A, v, default)\n",
    "        case 'min':\n",
    "            return -1 * aggr_max(A, -v, -default)\n",
    "        case _:\n",
    "            raise NotImplementedError(f'Reduction \"{reduction}\" not implemented.')\n",
    "\n",
    "\n",
    "def kqv(k, q, v, pred, default=0, reduction='mean'):\n",
    "    return aggr(\n",
    "        select(k, q, pred),\n",
    "        v,\n",
    "        default=default,\n",
    "        reduction=reduction\n",
    "    )\n"
   ]
  },
  {
   "cell_type": "code",
   "execution_count": 26,
   "id": "e9cbfbdc-850b-4aa8-90a0-4e901eae0218",
   "metadata": {},
   "outputs": [
    {
     "data": {
      "text/plain": [
       "array([ 0,  0, 11, 49, 28,  4, 26, 11, 40, 45])"
      ]
     },
     "execution_count": 26,
     "metadata": {},
     "output_type": "execute_result"
    }
   ],
   "source": [
    "rng = np.random.default_rng()\n",
    "\n",
    "seq = rng.integers(1, 50, 10)\n",
    "\n",
    "shift_right(seq, 2)"
   ]
  },
  {
   "cell_type": "code",
   "execution_count": null,
   "id": "e3448d1c-d04b-4b0b-9345-c24059f5bb0e",
   "metadata": {},
   "outputs": [],
   "source": [
    "def shift_right(x, n, default=0):\n",
    "    # shifts sequence x to the right by n positions\n",
    "    return kqv(indices(x) + n, indices(x), x, equals, default=default)"
   ]
  },
  {
   "cell_type": "markdown",
   "id": "5b6ece95-2c01-4f3c-b4c7-a9ab09c39c04",
   "metadata": {},
   "source": [
    "## Cumulative Sum"
   ]
  },
  {
   "cell_type": "code",
   "execution_count": 88,
   "id": "40c3c132-f7cf-4400-a8ee-cb997427989b",
   "metadata": {},
   "outputs": [],
   "source": [
    "def cumsum(bool_array):\n",
    "    # returns number of previous True elements in bool_array\n",
    "    raise sel_width(select(bool_array, bool_array, lambda k, q: k))\n",
    "\n",
    "\n"
   ]
  },
  {
   "cell_type": "code",
   "execution_count": 95,
   "id": "423bba94-04f2-494a-b75c-baa02cfddd37",
   "metadata": {},
   "outputs": [],
   "source": [
    "def where(condition, x_if, y_else):\n",
    "    # equivalent to np.where(condition, x_if, y_else)\n",
    "    x = seq_map(x_if, condition, lambda x, c: x if c else -1)\n",
    "    y = seq_map(y_else, condition, lambda y, c: y if not c else -1)\n",
    "    return seq_map(x, y, lambda x, y: x if x != -1 else y)\n"
   ]
  },
  {
   "cell_type": "code",
   "execution_count": 96,
   "id": "90976006-75f9-47c3-919a-3734aa7b278d",
   "metadata": {},
   "outputs": [
    {
     "name": "stdout",
     "output_type": "stream",
     "text": [
      "[0 1 2 3 4 5 6 7 8 9]\n",
      "[20 21 22 23 24 25 26 27 28 29]\n",
      "[ True False  True False  True False  True False False  True]\n"
     ]
    },
    {
     "data": {
      "text/plain": [
       "array([ 0, 21,  2, 23,  4, 25,  6, 27, 28,  9])"
      ]
     },
     "execution_count": 96,
     "metadata": {},
     "output_type": "execute_result"
    }
   ],
   "source": [
    "x = np.arange(10)\n",
    "y = np.arange(20, 30)\n",
    "cond = rng.integers(0, 2, 10).astype(bool)\n",
    "print(x)\n",
    "print(y)\n",
    "print(cond)\n",
    "where(cond, x, y)"
   ]
  },
  {
   "cell_type": "code",
   "execution_count": 97,
   "id": "953c1e27-95df-4931-823a-24dc11173a1f",
   "metadata": {},
   "outputs": [],
   "source": [
    "def mask(x, bool_mask, mask_val=0):\n",
    "    # equivalent to x*bool_mask + default*(~bool_mask)\n",
    "    return where(bool_mask, x, full(x, mask_val))\n"
   ]
  },
  {
   "cell_type": "code",
   "execution_count": 98,
   "id": "3e9660de-09e0-41b5-ae61-f2e90d97d427",
   "metadata": {},
   "outputs": [
    {
     "data": {
      "text/plain": [
       "array([0, 1, 2, 0, 0])"
      ]
     },
     "execution_count": 98,
     "metadata": {},
     "output_type": "execute_result"
    }
   ],
   "source": [
    "mask(np.arange(5), np.array([True, True, True, False, False]))"
   ]
  },
  {
   "cell_type": "code",
   "execution_count": 124,
   "id": "499b0af9-7238-4dff-8e87-bc094ee4a8f0",
   "metadata": {},
   "outputs": [
    {
     "name": "stdout",
     "output_type": "stream",
     "text": [
      "[3 8 5 9 5]\n"
     ]
    },
    {
     "data": {
      "text/plain": [
       "array([3, 8, 8, 9, 9])"
      ]
     },
     "execution_count": 124,
     "metadata": {},
     "output_type": "execute_result"
    }
   ],
   "source": [
    "def maximum(x):\n",
    "    return kqv(x, x, x, lambda k, v: True, reduction='max')\n",
    "\n",
    "x = rng.integers(0, 10, 5)\n",
    "print(x)\n",
    "maximum(x)\n",
    "\n"
   ]
  },
  {
   "cell_type": "code",
   "execution_count": 125,
   "id": "26afd0fe-520d-4f05-a0a1-48d9db3e0078",
   "metadata": {},
   "outputs": [
    {
     "name": "stdout",
     "output_type": "stream",
     "text": [
      "[2 8 9 0 1]\n"
     ]
    },
    {
     "data": {
      "text/plain": [
       "array([2, 2, 2, 0, 0])"
      ]
     },
     "execution_count": 125,
     "metadata": {},
     "output_type": "execute_result"
    }
   ],
   "source": [
    "def minimum(x):\n",
    "    return -maximum(-x)\n",
    "\n",
    "x = rng.integers(0, 10, 5)\n",
    "print(x)\n",
    "minimum(x)\n"
   ]
  },
  {
   "cell_type": "code",
   "execution_count": 143,
   "id": "be8f503d-3550-4a27-aebf-1085b2e8546d",
   "metadata": {},
   "outputs": [
    {
     "name": "stdout",
     "output_type": "stream",
     "text": [
      "[2 3 1 5 2]\n"
     ]
    },
    {
     "data": {
      "text/plain": [
       "array([0, 1, 1, 3, 3])"
      ]
     },
     "execution_count": 143,
     "metadata": {},
     "output_type": "execute_result"
    }
   ],
   "source": [
    "def argmax(x):\n",
    "    return kqv(x, maximum(x), indices(x), equals, reduction='max')\n",
    "\n",
    "x = rng.integers(0, 10, 5)\n",
    "print(x)\n",
    "argmax(x)"
   ]
  },
  {
   "cell_type": "code",
   "execution_count": 148,
   "id": "f4828685-b571-457c-ae89-75d17bf5280c",
   "metadata": {},
   "outputs": [
    {
     "data": {
      "text/plain": [
       "array([7, 8, 9, 0, 1, 2, 3, 4, 5, 6])"
      ]
     },
     "execution_count": 148,
     "metadata": {},
     "output_type": "execute_result"
    }
   ],
   "source": [
    "np.roll(np.arange(10), 3)"
   ]
  },
  {
   "cell_type": "code",
   "execution_count": 144,
   "id": "6cd109b8-5fd2-48b2-9387-6e26fe8d9aed",
   "metadata": {},
   "outputs": [],
   "source": [
    "def argmin(x):\n",
    "    return argmax(-x)"
   ]
  },
  {
   "cell_type": "code",
   "execution_count": null,
   "id": "f4236f9f-7126-48ff-a797-467cee8d3478",
   "metadata": {},
   "outputs": [],
   "source": [
    "\n",
    "def num_prev(x, queries):\n",
    "    # output[i] = number of previous elements of x equal to queries[i], inclusive\n",
    "    raise NotImplementedError  "
   ]
  },
  {
   "cell_type": "code",
   "execution_count": 138,
   "id": "cb2f506d-faf6-4f5b-9fe9-f191def4cf1c",
   "metadata": {},
   "outputs": [],
   "source": [
    "\n",
    "def has_seen(x, queries):\n",
    "    raise NotImplementedError    \n",
    "\n",
    "\n",
    "def firsts(x, queries, default=-1):\n",
    "    # find the index of the first occurrence of each query[i] in x\n",
    "    # out[i] := np.flatnonzero(x[:i+1] == queries[i]).min()\n",
    "    raise NotImplementedError \n",
    "    \n",
    "def lasts(x, queries, default=-1):\n",
    "    # find the index of the last occurrence of each query[i] in x\n",
    "    # out[i] := np.flatnonzero(x[:i+1] == queries[i]).max()\n",
    "    raise NotImplementedError\n",
    "\n",
    "\n",
    "def index_select(x, idx, default=0):\n",
    "    # indexes into sequence x, via index sequence idx\n",
    "    # i.e. return x[idx] if idx[i] <= i else default\n",
    "    raise NotImplementedError\n",
    "    \n",
    "\n",
    "def first_true(x, default=-1):\n",
    "    # returns the index of the first true value in x\n",
    "    raise NotImplementedError\n",
    "\n",
    "def induct_kqv(k, q, v, offset, default=0, null_val=-999):\n",
    "    # get value of v at index of: first occurrence of q[i] found in k (if found) + offset.\n",
    "    # (excludes the last OFFSET tokens of k from matching)\n",
    "    # null_val is a special token that cannot appear in k or q; used to prevent accidental matches\n",
    "    raise NotImplementedError\n",
    "\n",
    "\n",
    "def induct(k, q, offset, default=0, null_val=-999):\n",
    "    raise NotImplementedError\n",
    "\n",
    "\n",
    "def induct_prev(k, q, offset, default=0, null_val=-999):\n",
    "    # A version of induct for negative offsets.\n",
    "    raise NotImplementedError"
   ]
  },
  {
   "cell_type": "code",
   "execution_count": null,
   "id": "fa33f605-bb03-4bec-b783-20fc2760a64f",
   "metadata": {},
   "outputs": [],
   "source": []
  }
 ],
 "metadata": {
  "kernelspec": {
   "display_name": "Python 3 (ipykernel)",
   "language": "python",
   "name": "python3"
  },
  "language_info": {
   "codemirror_mode": {
    "name": "ipython",
    "version": 3
   },
   "file_extension": ".py",
   "mimetype": "text/x-python",
   "name": "python",
   "nbconvert_exporter": "python",
   "pygments_lexer": "ipython3",
   "version": "3.11.6"
  }
 },
 "nbformat": 4,
 "nbformat_minor": 5
}
