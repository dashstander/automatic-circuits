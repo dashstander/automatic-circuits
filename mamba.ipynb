{
 "cells": [
  {
   "cell_type": "code",
   "execution_count": 1,
   "id": "6b76bd65-4028-482a-a812-0fac9218cc8d",
   "metadata": {},
   "outputs": [],
   "source": [
    "from automatic_circuits.mamba import Mamba, ModelArgs"
   ]
  },
  {
   "cell_type": "code",
   "execution_count": 2,
   "id": "e67791ab-e543-4607-a543-45926e98c6b8",
   "metadata": {},
   "outputs": [],
   "source": [
    "args = ModelArgs(\n",
    "    d_model = 64,\n",
    "    n_layer = 2,\n",
    "    vocab_size = 3,\n",
    "    d_state = 64,\n",
    "    expand = 2,\n",
    "    dt_rank = 'auto',\n",
    "    d_conv = 2,\n",
    "    pad_vocab_size_multiple = 8,\n",
    "    conv_bias = True,\n",
    "    bias = False\n",
    ")"
   ]
  },
  {
   "cell_type": "code",
   "execution_count": 3,
   "id": "b14248e6-fe52-4a09-b7ff-8c359cb6266b",
   "metadata": {},
   "outputs": [],
   "source": [
    "model = Mamba(args)"
   ]
  },
  {
   "cell_type": "code",
   "execution_count": 4,
   "id": "2c468cf1-e204-4305-b4b1-a0a4de96cac8",
   "metadata": {},
   "outputs": [],
   "source": [
    "def generate_cum_parity(total_seq_len: int, rng):\n",
    "    sep = np.array([2])\n",
    "    prob = rng.beta(2, 2)\n",
    "    bits = rng.choice(2, (total_seq_len - 1,), replace=True, p=[prob, 1. - prob])\n",
    "    parities = np.concatenate([sep, np.cumsum(bits) % 2])\n",
    "    bits = np.concatenate([sep, bits])\n",
    "    return bits, parities\n",
    "\n",
    "\n",
    "def generate_fixed_parity(seq_length=64, rng=None):\n",
    "    if rng is None:\n",
    "        rng = np.random.default_rng()\n",
    "    sep = 2\n",
    "    #sequence_lengths = [seq_length] * (total_seq_length // seq_length)\n",
    "    #assert sum(sequence_lengths) <= total_seq_length\n",
    "    bits, parities = generate_cum_parity(seq_length, rng)\n",
    "    \n",
    "    bits = np.concatenate(bits)\n",
    "    parities = np.concatenate(parities)\n",
    "    diff = total_seq_length - len(parities)\n",
    "    bits = np.pad(bits, (0, diff), mode='constant', constant_values=(sep, sep))\n",
    "    parities = np.pad(parities, (0, diff), mode='constant', constant_values=(sep, sep))\n",
    "    return bits, parities"
   ]
  },
  {
   "cell_type": "code",
   "execution_count": 5,
   "id": "9ec830ae-a109-428e-872d-7c7817b39a18",
   "metadata": {},
   "outputs": [],
   "source": [
    "import numpy as np\n",
    "import torch\n",
    "\n",
    "rng = np.random.default_rng(0)\n",
    "\n",
    "bits, parities = generate_cum_parity(128, rng)\n",
    "\n",
    "bits = torch.asarray(bits)\n",
    "parities = torch.asarray(parities)"
   ]
  },
  {
   "cell_type": "code",
   "execution_count": 15,
   "id": "ef457b30-c3ef-494d-8f93-7895863fb0ae",
   "metadata": {},
   "outputs": [],
   "source": [
    "def generate_cum_parity(seq_len: int, batch_size: int):\n",
    "    dist = torch.distributions.beta.Beta(2., 2.)\n",
    "    probs = dist.sample((batch_size, 1))\n",
    "    bits = torch.bernoulli(torch.ones((batch_size, seq_len)) * probs)\n",
    "    parities = bits.cumsum(dim=1) % 2\n",
    "    return bits, parities"
   ]
  },
  {
   "cell_type": "code",
   "execution_count": 17,
   "id": "4b64572d-d60d-4458-8e71-302d8a241538",
   "metadata": {},
   "outputs": [
    {
     "name": "stdout",
     "output_type": "stream",
     "text": [
      "torch.Size([10, 64])\n"
     ]
    }
   ],
   "source": [
    "bits, parities = generate_cum_parity(64, 10)\n",
    "print(bits.shape)"
   ]
  },
  {
   "cell_type": "code",
   "execution_count": null,
   "id": "c5d6634f-511d-4b0f-9032-6c2547d19d09",
   "metadata": {},
   "outputs": [],
   "source": []
  }
 ],
 "metadata": {
  "kernelspec": {
   "display_name": "Python 3 (ipykernel)",
   "language": "python",
   "name": "python3"
  },
  "language_info": {
   "codemirror_mode": {
    "name": "ipython",
    "version": 3
   },
   "file_extension": ".py",
   "mimetype": "text/x-python",
   "name": "python",
   "nbconvert_exporter": "python",
   "pygments_lexer": "ipython3",
   "version": "3.11.6"
  }
 },
 "nbformat": 4,
 "nbformat_minor": 5
}
